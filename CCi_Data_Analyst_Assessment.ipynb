{
 "cells": [
  {
   "cell_type": "markdown",
   "metadata": {
    "id": "0IjLW3qolPE1"
   },
   "source": [
    "# **CCi Data Analyst Assessment**"
   ]
  },
  {
   "cell_type": "markdown",
   "metadata": {
    "id": "wcX1TGdvk_87"
   },
   "source": [
    "# **Part 1: Data Querying**"
   ]
  },
  {
   "cell_type": "markdown",
   "metadata": {
    "id": "pNYEWHi0u-WT"
   },
   "source": [
    "Assessment completed by Mlungiseleli Notshokovu"
   ]
  },
  {
   "cell_type": "code",
   "execution_count": 110,
   "metadata": {
    "id": "rIWg5Udkk-sU"
   },
   "outputs": [],
   "source": [
    "import pandas as pd\n",
    "import datetime\n",
    "import numpy as np"
   ]
  },
  {
   "cell_type": "code",
   "execution_count": 111,
   "metadata": {
    "id": "V25kivYckCYw"
   },
   "outputs": [],
   "source": [
    "df = pd.read_csv('maturity_assessments_dataset.csv')"
   ]
  },
  {
   "cell_type": "code",
   "execution_count": 112,
   "metadata": {
    "colab": {
     "base_uri": "https://localhost:8080/",
     "height": 206
    },
    "id": "YrJ4gNg2kH9e",
    "outputId": "5ea6e811-c3e5-421a-b7b6-93d844c675d1"
   },
   "outputs": [
    {
     "data": {
      "text/html": [
       "<div>\n",
       "<style scoped>\n",
       "    .dataframe tbody tr th:only-of-type {\n",
       "        vertical-align: middle;\n",
       "    }\n",
       "\n",
       "    .dataframe tbody tr th {\n",
       "        vertical-align: top;\n",
       "    }\n",
       "\n",
       "    .dataframe thead th {\n",
       "        text-align: right;\n",
       "    }\n",
       "</style>\n",
       "<table border=\"1\" class=\"dataframe\">\n",
       "  <thead>\n",
       "    <tr style=\"text-align: right;\">\n",
       "      <th></th>\n",
       "      <th>client</th>\n",
       "      <th>site</th>\n",
       "      <th>country</th>\n",
       "      <th>tracc_practice</th>\n",
       "      <th>assessment_date</th>\n",
       "      <th>tracc_maturity</th>\n",
       "    </tr>\n",
       "  </thead>\n",
       "  <tbody>\n",
       "    <tr>\n",
       "      <th>0</th>\n",
       "      <td>Client 1</td>\n",
       "      <td>Site 1</td>\n",
       "      <td>Canada</td>\n",
       "      <td>5S</td>\n",
       "      <td>3/10/2016</td>\n",
       "      <td>1.35</td>\n",
       "    </tr>\n",
       "    <tr>\n",
       "      <th>1</th>\n",
       "      <td>Client 1</td>\n",
       "      <td>Site 1</td>\n",
       "      <td>Canada</td>\n",
       "      <td>5S</td>\n",
       "      <td>3/15/2016</td>\n",
       "      <td>1.27</td>\n",
       "    </tr>\n",
       "    <tr>\n",
       "      <th>2</th>\n",
       "      <td>Client 1</td>\n",
       "      <td>Site 1</td>\n",
       "      <td>Canada</td>\n",
       "      <td>5S</td>\n",
       "      <td>3/18/2016</td>\n",
       "      <td>1.38</td>\n",
       "    </tr>\n",
       "    <tr>\n",
       "      <th>3</th>\n",
       "      <td>Client 1</td>\n",
       "      <td>Site 1</td>\n",
       "      <td>Canada</td>\n",
       "      <td>5S</td>\n",
       "      <td>3/25/2016</td>\n",
       "      <td>2.38</td>\n",
       "    </tr>\n",
       "    <tr>\n",
       "      <th>4</th>\n",
       "      <td>Client 1</td>\n",
       "      <td>Site 1</td>\n",
       "      <td>Canada</td>\n",
       "      <td>5S</td>\n",
       "      <td>3/29/2016</td>\n",
       "      <td>1.45</td>\n",
       "    </tr>\n",
       "  </tbody>\n",
       "</table>\n",
       "</div>"
      ],
      "text/plain": [
       "     client    site country tracc_practice assessment_date  tracc_maturity\n",
       "0  Client 1  Site 1  Canada             5S       3/10/2016            1.35\n",
       "1  Client 1  Site 1  Canada             5S       3/15/2016            1.27\n",
       "2  Client 1  Site 1  Canada             5S       3/18/2016            1.38\n",
       "3  Client 1  Site 1  Canada             5S       3/25/2016            2.38\n",
       "4  Client 1  Site 1  Canada             5S       3/29/2016            1.45"
      ]
     },
     "execution_count": 112,
     "metadata": {},
     "output_type": "execute_result"
    }
   ],
   "source": [
    "df.head()"
   ]
  },
  {
   "cell_type": "markdown",
   "metadata": {
    "id": "RjfWZAZTk6-u"
   },
   "source": [
    "**1. Which client has conducted the most assessments in total?**"
   ]
  },
  {
   "cell_type": "markdown",
   "metadata": {},
   "source": [
    "To first check if the involved columns have any null values. Then proceed to create a function that will go through all the clients and count the assessments conducted by using the 'assessment_date' column. "
   ]
  },
  {
   "cell_type": "code",
   "execution_count": 113,
   "metadata": {
    "id": "LtI-VPi62_Yk"
   },
   "outputs": [],
   "source": [
    "client_list = df['client'].to_list() # Creating a list of all values on 'client' column"
   ]
  },
  {
   "cell_type": "code",
   "execution_count": 114,
   "metadata": {
    "colab": {
     "base_uri": "https://localhost:8080/"
    },
    "id": "lZY8sypf3OxR",
    "outputId": "0b700149-560b-4a28-99e4-68f93520a3b1"
   },
   "outputs": [
    {
     "data": {
      "text/plain": [
       "False"
      ]
     },
     "execution_count": 114,
     "metadata": {},
     "output_type": "execute_result"
    }
   ],
   "source": [
    "df['assessment_date'].isnull().values.any() # Checking if the 'assessment_date' column has null values. False if the is no null"
   ]
  },
  {
   "cell_type": "code",
   "execution_count": 115,
   "metadata": {
    "id": "jOE71FoC5Jg2"
   },
   "outputs": [],
   "source": [
    "# The function takes in a list of all the client in no specific order or duplicate. It then creates a dictionary counting the number of assessments for each client. \n",
    "# Finally, it returns the client with the most assessments conducted.\n",
    "\n",
    "def client_assessment_total(client_list):\n",
    "  client_dict = {}\n",
    "  #This creates a dictionary of clients with the number of assessments they have conducted.\n",
    "  for client in client_list:\n",
    "    if client in client_dict:\n",
    "      client_dict[client] += 1\n",
    "    else:\n",
    "      client_dict[client] = 1\n",
    "  max_value = max(zip(client_dict.values(), client_dict.keys()))[1] #Goes through the values in the dictionary and looks for the client with the highest assessments conducted.\n",
    "  return 'Answer: {} with {} assessments'.format(max_value, client_dict[max_value])"
   ]
  },
  {
   "cell_type": "code",
   "execution_count": 116,
   "metadata": {
    "colab": {
     "base_uri": "https://localhost:8080/",
     "height": 35
    },
    "id": "96eDUxTo8Qa3",
    "outputId": "65dde5e8-ccdf-4107-c3a1-bcd504ab93d9"
   },
   "outputs": [
    {
     "data": {
      "text/plain": [
       "'Answer: Client 3 with 1592 assessments'"
      ]
     },
     "execution_count": 116,
     "metadata": {},
     "output_type": "execute_result"
    }
   ],
   "source": [
    "client_assessment_total(client_list)"
   ]
  },
  {
   "cell_type": "code",
   "execution_count": null,
   "metadata": {
    "id": "NzlkKWLkhxG1"
   },
   "outputs": [],
   "source": []
  },
  {
   "cell_type": "markdown",
   "metadata": {
    "id": "wPSIxEzxJxBK"
   },
   "source": [
    "**2. Across how many countries are our clients assessing TRACC practices?**"
   ]
  },
  {
   "cell_type": "markdown",
   "metadata": {},
   "source": [
    "Add the all countries to a list and use the set() method to get distinct country values. Once that's done, get the lenght/size of the distinct country values."
   ]
  },
  {
   "cell_type": "code",
   "execution_count": 117,
   "metadata": {
    "colab": {
     "base_uri": "https://localhost:8080/"
    },
    "id": "HJlx4QRfJxuS",
    "outputId": "16cf4233-f0e3-43f8-9e59-cfa5dcef2deb"
   },
   "outputs": [
    {
     "data": {
      "text/plain": [
       "False"
      ]
     },
     "execution_count": 117,
     "metadata": {},
     "output_type": "execute_result"
    }
   ],
   "source": [
    "df['country'].isnull().values.any() # Checking if the country field has any null values. False means no null values."
   ]
  },
  {
   "cell_type": "code",
   "execution_count": 118,
   "metadata": {
    "colab": {
     "base_uri": "https://localhost:8080/"
    },
    "id": "ps2DcoHkJ5JJ",
    "outputId": "935458b7-bb8b-4cd7-acfb-efba6761ad92"
   },
   "outputs": [
    {
     "data": {
      "text/plain": [
       "False"
      ]
     },
     "execution_count": 118,
     "metadata": {},
     "output_type": "execute_result"
    }
   ],
   "source": [
    "df['tracc_practice'].isnull().values.any()# Checking if the tracc_practice field has any null values. False means no null values."
   ]
  },
  {
   "cell_type": "code",
   "execution_count": 119,
   "metadata": {
    "colab": {
     "base_uri": "https://localhost:8080/"
    },
    "id": "Q7sYjNDtJ-wG",
    "outputId": "b09c2302-a859-484c-bde9-5b12462f99d2"
   },
   "outputs": [
    {
     "name": "stdout",
     "output_type": "stream",
     "text": [
      "Answer: 25 Countries\n"
     ]
    }
   ],
   "source": [
    "country_list = df['country'].to_list() # To convert the country column to a list. This gives a list of all the countries, even duplicates.\n",
    "country_set = set(country_list) # To convert the country list to a set. This will helps to remove duplicate values. \n",
    "\n",
    "print('Answer: {} Countries'.format(len(country_set))) #used len() to get the number of unique countries in the list"
   ]
  },
  {
   "cell_type": "markdown",
   "metadata": {
    "id": "TDm4WCYlZRz1"
   },
   "source": [
    "**3. How many assessments were conducted in total for all clients, after 31 March 2018?**"
   ]
  },
  {
   "cell_type": "markdown",
   "metadata": {},
   "source": [
    "Convert the 'assessment_date' column datatype to 'datetime'. If I filter without converting, the assessment_date values will be treated as strings and '>' won't be effective.\n",
    "\n",
    "Once the date is converted properly, I can filter by date > '31 March 2018' and count the results."
   ]
  },
  {
   "cell_type": "code",
   "execution_count": 120,
   "metadata": {
    "colab": {
     "base_uri": "https://localhost:8080/",
     "height": 206
    },
    "id": "h5Pr6rMNak0R",
    "outputId": "4374ce27-a59e-404e-c7d7-d4323e8bcac4"
   },
   "outputs": [
    {
     "data": {
      "text/html": [
       "<div>\n",
       "<style scoped>\n",
       "    .dataframe tbody tr th:only-of-type {\n",
       "        vertical-align: middle;\n",
       "    }\n",
       "\n",
       "    .dataframe tbody tr th {\n",
       "        vertical-align: top;\n",
       "    }\n",
       "\n",
       "    .dataframe thead th {\n",
       "        text-align: right;\n",
       "    }\n",
       "</style>\n",
       "<table border=\"1\" class=\"dataframe\">\n",
       "  <thead>\n",
       "    <tr style=\"text-align: right;\">\n",
       "      <th></th>\n",
       "      <th>client</th>\n",
       "      <th>site</th>\n",
       "      <th>country</th>\n",
       "      <th>tracc_practice</th>\n",
       "      <th>assessment_date</th>\n",
       "      <th>tracc_maturity</th>\n",
       "    </tr>\n",
       "  </thead>\n",
       "  <tbody>\n",
       "    <tr>\n",
       "      <th>0</th>\n",
       "      <td>Client 1</td>\n",
       "      <td>Site 1</td>\n",
       "      <td>Canada</td>\n",
       "      <td>5S</td>\n",
       "      <td>3/10/2016</td>\n",
       "      <td>1.35</td>\n",
       "    </tr>\n",
       "    <tr>\n",
       "      <th>1</th>\n",
       "      <td>Client 1</td>\n",
       "      <td>Site 1</td>\n",
       "      <td>Canada</td>\n",
       "      <td>5S</td>\n",
       "      <td>3/15/2016</td>\n",
       "      <td>1.27</td>\n",
       "    </tr>\n",
       "    <tr>\n",
       "      <th>2</th>\n",
       "      <td>Client 1</td>\n",
       "      <td>Site 1</td>\n",
       "      <td>Canada</td>\n",
       "      <td>5S</td>\n",
       "      <td>3/18/2016</td>\n",
       "      <td>1.38</td>\n",
       "    </tr>\n",
       "    <tr>\n",
       "      <th>3</th>\n",
       "      <td>Client 1</td>\n",
       "      <td>Site 1</td>\n",
       "      <td>Canada</td>\n",
       "      <td>5S</td>\n",
       "      <td>3/25/2016</td>\n",
       "      <td>2.38</td>\n",
       "    </tr>\n",
       "    <tr>\n",
       "      <th>4</th>\n",
       "      <td>Client 1</td>\n",
       "      <td>Site 1</td>\n",
       "      <td>Canada</td>\n",
       "      <td>5S</td>\n",
       "      <td>3/29/2016</td>\n",
       "      <td>1.45</td>\n",
       "    </tr>\n",
       "  </tbody>\n",
       "</table>\n",
       "</div>"
      ],
      "text/plain": [
       "     client    site country tracc_practice assessment_date  tracc_maturity\n",
       "0  Client 1  Site 1  Canada             5S       3/10/2016            1.35\n",
       "1  Client 1  Site 1  Canada             5S       3/15/2016            1.27\n",
       "2  Client 1  Site 1  Canada             5S       3/18/2016            1.38\n",
       "3  Client 1  Site 1  Canada             5S       3/25/2016            2.38\n",
       "4  Client 1  Site 1  Canada             5S       3/29/2016            1.45"
      ]
     },
     "execution_count": 120,
     "metadata": {},
     "output_type": "execute_result"
    }
   ],
   "source": [
    "df_copy = df # Creating a copy of the dataframe\n",
    "df_copy.head()"
   ]
  },
  {
   "cell_type": "code",
   "execution_count": 121,
   "metadata": {
    "colab": {
     "base_uri": "https://localhost:8080/",
     "height": 206
    },
    "id": "MMD4kFqUpmMu",
    "outputId": "042952ec-a101-47b1-d8e2-910d075d254f"
   },
   "outputs": [
    {
     "data": {
      "text/html": [
       "<div>\n",
       "<style scoped>\n",
       "    .dataframe tbody tr th:only-of-type {\n",
       "        vertical-align: middle;\n",
       "    }\n",
       "\n",
       "    .dataframe tbody tr th {\n",
       "        vertical-align: top;\n",
       "    }\n",
       "\n",
       "    .dataframe thead th {\n",
       "        text-align: right;\n",
       "    }\n",
       "</style>\n",
       "<table border=\"1\" class=\"dataframe\">\n",
       "  <thead>\n",
       "    <tr style=\"text-align: right;\">\n",
       "      <th></th>\n",
       "      <th>client</th>\n",
       "      <th>site</th>\n",
       "      <th>country</th>\n",
       "      <th>tracc_practice</th>\n",
       "      <th>assessment_date</th>\n",
       "      <th>tracc_maturity</th>\n",
       "      <th>date_col</th>\n",
       "    </tr>\n",
       "  </thead>\n",
       "  <tbody>\n",
       "    <tr>\n",
       "      <th>0</th>\n",
       "      <td>Client 1</td>\n",
       "      <td>Site 1</td>\n",
       "      <td>Canada</td>\n",
       "      <td>5S</td>\n",
       "      <td>3/10/2016</td>\n",
       "      <td>1.35</td>\n",
       "      <td>[3, 10, 2016]</td>\n",
       "    </tr>\n",
       "    <tr>\n",
       "      <th>1</th>\n",
       "      <td>Client 1</td>\n",
       "      <td>Site 1</td>\n",
       "      <td>Canada</td>\n",
       "      <td>5S</td>\n",
       "      <td>3/15/2016</td>\n",
       "      <td>1.27</td>\n",
       "      <td>[3, 15, 2016]</td>\n",
       "    </tr>\n",
       "    <tr>\n",
       "      <th>2</th>\n",
       "      <td>Client 1</td>\n",
       "      <td>Site 1</td>\n",
       "      <td>Canada</td>\n",
       "      <td>5S</td>\n",
       "      <td>3/18/2016</td>\n",
       "      <td>1.38</td>\n",
       "      <td>[3, 18, 2016]</td>\n",
       "    </tr>\n",
       "    <tr>\n",
       "      <th>3</th>\n",
       "      <td>Client 1</td>\n",
       "      <td>Site 1</td>\n",
       "      <td>Canada</td>\n",
       "      <td>5S</td>\n",
       "      <td>3/25/2016</td>\n",
       "      <td>2.38</td>\n",
       "      <td>[3, 25, 2016]</td>\n",
       "    </tr>\n",
       "    <tr>\n",
       "      <th>4</th>\n",
       "      <td>Client 1</td>\n",
       "      <td>Site 1</td>\n",
       "      <td>Canada</td>\n",
       "      <td>5S</td>\n",
       "      <td>3/29/2016</td>\n",
       "      <td>1.45</td>\n",
       "      <td>[3, 29, 2016]</td>\n",
       "    </tr>\n",
       "  </tbody>\n",
       "</table>\n",
       "</div>"
      ],
      "text/plain": [
       "     client    site country tracc_practice assessment_date  tracc_maturity  \\\n",
       "0  Client 1  Site 1  Canada             5S       3/10/2016            1.35   \n",
       "1  Client 1  Site 1  Canada             5S       3/15/2016            1.27   \n",
       "2  Client 1  Site 1  Canada             5S       3/18/2016            1.38   \n",
       "3  Client 1  Site 1  Canada             5S       3/25/2016            2.38   \n",
       "4  Client 1  Site 1  Canada             5S       3/29/2016            1.45   \n",
       "\n",
       "        date_col  \n",
       "0  [3, 10, 2016]  \n",
       "1  [3, 15, 2016]  \n",
       "2  [3, 18, 2016]  \n",
       "3  [3, 25, 2016]  \n",
       "4  [3, 29, 2016]  "
      ]
     },
     "execution_count": 121,
     "metadata": {},
     "output_type": "execute_result"
    }
   ],
   "source": [
    "df_copy['date_col'] = df_copy['assessment_date'].str.split('/') # Creating a date_col field to split the assessment_date values as month, day, and year\n",
    "df_copy.head()"
   ]
  },
  {
   "cell_type": "code",
   "execution_count": 122,
   "metadata": {
    "colab": {
     "base_uri": "https://localhost:8080/",
     "height": 206
    },
    "id": "Sv05Nt1F9Tkn",
    "outputId": "da4d884c-96f4-48eb-f2a8-fc19ede353c3"
   },
   "outputs": [
    {
     "data": {
      "text/html": [
       "<div>\n",
       "<style scoped>\n",
       "    .dataframe tbody tr th:only-of-type {\n",
       "        vertical-align: middle;\n",
       "    }\n",
       "\n",
       "    .dataframe tbody tr th {\n",
       "        vertical-align: top;\n",
       "    }\n",
       "\n",
       "    .dataframe thead th {\n",
       "        text-align: right;\n",
       "    }\n",
       "</style>\n",
       "<table border=\"1\" class=\"dataframe\">\n",
       "  <thead>\n",
       "    <tr style=\"text-align: right;\">\n",
       "      <th></th>\n",
       "      <th>client</th>\n",
       "      <th>site</th>\n",
       "      <th>country</th>\n",
       "      <th>tracc_practice</th>\n",
       "      <th>assessment_date</th>\n",
       "      <th>tracc_maturity</th>\n",
       "      <th>date_col</th>\n",
       "      <th>month</th>\n",
       "      <th>day</th>\n",
       "      <th>year</th>\n",
       "    </tr>\n",
       "  </thead>\n",
       "  <tbody>\n",
       "    <tr>\n",
       "      <th>0</th>\n",
       "      <td>Client 1</td>\n",
       "      <td>Site 1</td>\n",
       "      <td>Canada</td>\n",
       "      <td>5S</td>\n",
       "      <td>3/10/2016</td>\n",
       "      <td>1.35</td>\n",
       "      <td>[3, 10, 2016]</td>\n",
       "      <td>3</td>\n",
       "      <td>10</td>\n",
       "      <td>2016</td>\n",
       "    </tr>\n",
       "    <tr>\n",
       "      <th>1</th>\n",
       "      <td>Client 1</td>\n",
       "      <td>Site 1</td>\n",
       "      <td>Canada</td>\n",
       "      <td>5S</td>\n",
       "      <td>3/15/2016</td>\n",
       "      <td>1.27</td>\n",
       "      <td>[3, 15, 2016]</td>\n",
       "      <td>3</td>\n",
       "      <td>15</td>\n",
       "      <td>2016</td>\n",
       "    </tr>\n",
       "    <tr>\n",
       "      <th>2</th>\n",
       "      <td>Client 1</td>\n",
       "      <td>Site 1</td>\n",
       "      <td>Canada</td>\n",
       "      <td>5S</td>\n",
       "      <td>3/18/2016</td>\n",
       "      <td>1.38</td>\n",
       "      <td>[3, 18, 2016]</td>\n",
       "      <td>3</td>\n",
       "      <td>18</td>\n",
       "      <td>2016</td>\n",
       "    </tr>\n",
       "    <tr>\n",
       "      <th>3</th>\n",
       "      <td>Client 1</td>\n",
       "      <td>Site 1</td>\n",
       "      <td>Canada</td>\n",
       "      <td>5S</td>\n",
       "      <td>3/25/2016</td>\n",
       "      <td>2.38</td>\n",
       "      <td>[3, 25, 2016]</td>\n",
       "      <td>3</td>\n",
       "      <td>25</td>\n",
       "      <td>2016</td>\n",
       "    </tr>\n",
       "    <tr>\n",
       "      <th>4</th>\n",
       "      <td>Client 1</td>\n",
       "      <td>Site 1</td>\n",
       "      <td>Canada</td>\n",
       "      <td>5S</td>\n",
       "      <td>3/29/2016</td>\n",
       "      <td>1.45</td>\n",
       "      <td>[3, 29, 2016]</td>\n",
       "      <td>3</td>\n",
       "      <td>29</td>\n",
       "      <td>2016</td>\n",
       "    </tr>\n",
       "  </tbody>\n",
       "</table>\n",
       "</div>"
      ],
      "text/plain": [
       "     client    site country tracc_practice assessment_date  tracc_maturity  \\\n",
       "0  Client 1  Site 1  Canada             5S       3/10/2016            1.35   \n",
       "1  Client 1  Site 1  Canada             5S       3/15/2016            1.27   \n",
       "2  Client 1  Site 1  Canada             5S       3/18/2016            1.38   \n",
       "3  Client 1  Site 1  Canada             5S       3/25/2016            2.38   \n",
       "4  Client 1  Site 1  Canada             5S       3/29/2016            1.45   \n",
       "\n",
       "        date_col month day  year  \n",
       "0  [3, 10, 2016]     3  10  2016  \n",
       "1  [3, 15, 2016]     3  15  2016  \n",
       "2  [3, 18, 2016]     3  18  2016  \n",
       "3  [3, 25, 2016]     3  25  2016  \n",
       "4  [3, 29, 2016]     3  29  2016  "
      ]
     },
     "execution_count": 122,
     "metadata": {},
     "output_type": "execute_result"
    }
   ],
   "source": [
    "df_copy['month'] = df_copy['date_col'].str[0] # Create a month column\n",
    "df_copy['day'] = df_copy['date_col'].str[1] # Create a day column\n",
    "df_copy['year'] = df_copy['date_col'].str[2] # Create a year column\n",
    "\n",
    "df_copy.head()"
   ]
  },
  {
   "cell_type": "code",
   "execution_count": 123,
   "metadata": {
    "id": "YCwhqdW7-kJy"
   },
   "outputs": [],
   "source": [
    "df_copy['date'] = df_copy['month'] +'/'+ df_copy['day'] +'/'+ df_copy['year'] # Add the date values in an order that will be accepted when converting the datatype to DateTime"
   ]
  },
  {
   "cell_type": "code",
   "execution_count": 124,
   "metadata": {
    "colab": {
     "base_uri": "https://localhost:8080/",
     "height": 206
    },
    "id": "fG6Oj5ci-kXH",
    "outputId": "9ad3d79b-0096-4ec4-f595-00f056313a6b"
   },
   "outputs": [
    {
     "data": {
      "text/html": [
       "<div>\n",
       "<style scoped>\n",
       "    .dataframe tbody tr th:only-of-type {\n",
       "        vertical-align: middle;\n",
       "    }\n",
       "\n",
       "    .dataframe tbody tr th {\n",
       "        vertical-align: top;\n",
       "    }\n",
       "\n",
       "    .dataframe thead th {\n",
       "        text-align: right;\n",
       "    }\n",
       "</style>\n",
       "<table border=\"1\" class=\"dataframe\">\n",
       "  <thead>\n",
       "    <tr style=\"text-align: right;\">\n",
       "      <th></th>\n",
       "      <th>client</th>\n",
       "      <th>site</th>\n",
       "      <th>country</th>\n",
       "      <th>tracc_practice</th>\n",
       "      <th>assessment_date</th>\n",
       "      <th>tracc_maturity</th>\n",
       "      <th>date_col</th>\n",
       "      <th>month</th>\n",
       "      <th>day</th>\n",
       "      <th>year</th>\n",
       "      <th>date</th>\n",
       "    </tr>\n",
       "  </thead>\n",
       "  <tbody>\n",
       "    <tr>\n",
       "      <th>0</th>\n",
       "      <td>Client 1</td>\n",
       "      <td>Site 1</td>\n",
       "      <td>Canada</td>\n",
       "      <td>5S</td>\n",
       "      <td>3/10/2016</td>\n",
       "      <td>1.35</td>\n",
       "      <td>[3, 10, 2016]</td>\n",
       "      <td>3</td>\n",
       "      <td>10</td>\n",
       "      <td>2016</td>\n",
       "      <td>2016-03-10</td>\n",
       "    </tr>\n",
       "    <tr>\n",
       "      <th>1</th>\n",
       "      <td>Client 1</td>\n",
       "      <td>Site 1</td>\n",
       "      <td>Canada</td>\n",
       "      <td>5S</td>\n",
       "      <td>3/15/2016</td>\n",
       "      <td>1.27</td>\n",
       "      <td>[3, 15, 2016]</td>\n",
       "      <td>3</td>\n",
       "      <td>15</td>\n",
       "      <td>2016</td>\n",
       "      <td>2016-03-15</td>\n",
       "    </tr>\n",
       "    <tr>\n",
       "      <th>2</th>\n",
       "      <td>Client 1</td>\n",
       "      <td>Site 1</td>\n",
       "      <td>Canada</td>\n",
       "      <td>5S</td>\n",
       "      <td>3/18/2016</td>\n",
       "      <td>1.38</td>\n",
       "      <td>[3, 18, 2016]</td>\n",
       "      <td>3</td>\n",
       "      <td>18</td>\n",
       "      <td>2016</td>\n",
       "      <td>2016-03-18</td>\n",
       "    </tr>\n",
       "    <tr>\n",
       "      <th>3</th>\n",
       "      <td>Client 1</td>\n",
       "      <td>Site 1</td>\n",
       "      <td>Canada</td>\n",
       "      <td>5S</td>\n",
       "      <td>3/25/2016</td>\n",
       "      <td>2.38</td>\n",
       "      <td>[3, 25, 2016]</td>\n",
       "      <td>3</td>\n",
       "      <td>25</td>\n",
       "      <td>2016</td>\n",
       "      <td>2016-03-25</td>\n",
       "    </tr>\n",
       "    <tr>\n",
       "      <th>4</th>\n",
       "      <td>Client 1</td>\n",
       "      <td>Site 1</td>\n",
       "      <td>Canada</td>\n",
       "      <td>5S</td>\n",
       "      <td>3/29/2016</td>\n",
       "      <td>1.45</td>\n",
       "      <td>[3, 29, 2016]</td>\n",
       "      <td>3</td>\n",
       "      <td>29</td>\n",
       "      <td>2016</td>\n",
       "      <td>2016-03-29</td>\n",
       "    </tr>\n",
       "  </tbody>\n",
       "</table>\n",
       "</div>"
      ],
      "text/plain": [
       "     client    site country tracc_practice assessment_date  tracc_maturity  \\\n",
       "0  Client 1  Site 1  Canada             5S       3/10/2016            1.35   \n",
       "1  Client 1  Site 1  Canada             5S       3/15/2016            1.27   \n",
       "2  Client 1  Site 1  Canada             5S       3/18/2016            1.38   \n",
       "3  Client 1  Site 1  Canada             5S       3/25/2016            2.38   \n",
       "4  Client 1  Site 1  Canada             5S       3/29/2016            1.45   \n",
       "\n",
       "        date_col month day  year       date  \n",
       "0  [3, 10, 2016]     3  10  2016 2016-03-10  \n",
       "1  [3, 15, 2016]     3  15  2016 2016-03-15  \n",
       "2  [3, 18, 2016]     3  18  2016 2016-03-18  \n",
       "3  [3, 25, 2016]     3  25  2016 2016-03-25  \n",
       "4  [3, 29, 2016]     3  29  2016 2016-03-29  "
      ]
     },
     "execution_count": 124,
     "metadata": {},
     "output_type": "execute_result"
    }
   ],
   "source": [
    "df_copy['date'] = pd.to_datetime(df_copy['date']) # Converting the 'date' column datatype to DateTime\n",
    "df_copy.head()"
   ]
  },
  {
   "cell_type": "code",
   "execution_count": 125,
   "metadata": {
    "colab": {
     "base_uri": "https://localhost:8080/"
    },
    "id": "b8sHm_lQ_f4f",
    "outputId": "f2f0078e-4141-4f89-fca2-84f70793de2b"
   },
   "outputs": [],
   "source": [
    "df_copy = df_copy.drop(['date_col','day','month','year'], axis=1) # Removing the 'day', 'month', and 'year' columns"
   ]
  },
  {
   "cell_type": "code",
   "execution_count": 126,
   "metadata": {
    "id": "yWwQq9Bn_f56"
   },
   "outputs": [],
   "source": [
    "df_answer = df_copy[(df_copy['date'] > '2018-03-31')].sort_values(['date']) # Filter to get all values with a date greater than '2018-03-31'"
   ]
  },
  {
   "cell_type": "code",
   "execution_count": 127,
   "metadata": {
    "colab": {
     "base_uri": "https://localhost:8080/"
    },
    "id": "vjPv-fuaE6dg",
    "outputId": "f6fb3758-d14a-43ac-83db-3a10b3ff5c87"
   },
   "outputs": [
    {
     "name": "stdout",
     "output_type": "stream",
     "text": [
      "<class 'pandas.core.frame.DataFrame'>\n",
      "Int64Index: 2598 entries, 5929 to 6185\n",
      "Data columns (total 7 columns):\n",
      "client             2598 non-null object\n",
      "site               2598 non-null object\n",
      "country            2598 non-null object\n",
      "tracc_practice     2598 non-null object\n",
      "assessment_date    2598 non-null object\n",
      "tracc_maturity     2598 non-null float64\n",
      "date               2598 non-null datetime64[ns]\n",
      "dtypes: datetime64[ns](1), float64(1), object(5)\n",
      "memory usage: 162.4+ KB\n"
     ]
    }
   ],
   "source": [
    "df_answer.info() # To check if the date datatype has changed"
   ]
  },
  {
   "cell_type": "code",
   "execution_count": 128,
   "metadata": {
    "id": "YD43QmWTo8jf"
   },
   "outputs": [],
   "source": [
    "answer = len(df_answer['assessment_date'].to_list()) # Convert the assessment_date values to a list and get its size"
   ]
  },
  {
   "cell_type": "code",
   "execution_count": 129,
   "metadata": {
    "colab": {
     "base_uri": "https://localhost:8080/"
    },
    "id": "-X2A-ldYdR5v",
    "outputId": "5d53d107-e4eb-43fd-9839-ca7570991b9d"
   },
   "outputs": [
    {
     "name": "stdout",
     "output_type": "stream",
     "text": [
      "Answer: 2598\n"
     ]
    }
   ],
   "source": [
    "print('Answer: {}'.format(answer))"
   ]
  },
  {
   "cell_type": "code",
   "execution_count": null,
   "metadata": {
    "id": "Bb5OQ2yyqPpD"
   },
   "outputs": [],
   "source": []
  },
  {
   "cell_type": "markdown",
   "metadata": {
    "id": "CdhFg4MwMMcO"
   },
   "source": [
    "**4. How many unique TRACC practices did Client 48 assess ?**\n",
    "\n"
   ]
  },
  {
   "cell_type": "markdown",
   "metadata": {},
   "source": [
    "First get all the data with 'client 48' as client, and then proceed to get the distinct tracc_practice values found"
   ]
  },
  {
   "cell_type": "code",
   "execution_count": 130,
   "metadata": {
    "id": "BOGzPTBOfjuT"
   },
   "outputs": [],
   "source": [
    "def unique_practice_by_client(client_name, tracc_col):\n",
    "  #This gets all the data for the specified client\n",
    "  client_df = (df[df['client'] == client_name])\n",
    "\n",
    "  #convert the specific column data to a list\n",
    "  client_list = client_df['tracc_practice'].to_list()\n",
    "\n",
    "  #use set() to remove duplicate values in the list\n",
    "  client_set = set(client_list)\n",
    "  \n",
    "  #get the size of the unique tracc practices for the specific client\n",
    "  answer = len(client_set)\n",
    "  return 'Answer: {} assessed {} unique TRACC Practices'.format(client_name,answer)\n"
   ]
  },
  {
   "cell_type": "code",
   "execution_count": 131,
   "metadata": {
    "colab": {
     "base_uri": "https://localhost:8080/",
     "height": 35
    },
    "id": "pOOMmK1tcJYm",
    "outputId": "883d8dca-0e5d-4327-85ba-8b1ce718eaf6"
   },
   "outputs": [
    {
     "data": {
      "text/plain": [
       "'Answer: Client 48 assessed 4 unique TRACC Practices'"
      ]
     },
     "execution_count": 131,
     "metadata": {},
     "output_type": "execute_result"
    }
   ],
   "source": [
    "unique_practice_by_client('Client 48', 'tracc_practice')"
   ]
  },
  {
   "cell_type": "code",
   "execution_count": null,
   "metadata": {
    "id": "_zqsub0viKlJ"
   },
   "outputs": [],
   "source": []
  },
  {
   "cell_type": "markdown",
   "metadata": {
    "id": "Le4bPN0OiNWM"
   },
   "source": [
    "**5. How many assessments were done for each practice in 2017 ?**"
   ]
  },
  {
   "cell_type": "markdown",
   "metadata": {},
   "source": [
    "Use contains() to get all data with the year = 2017 and get the total assessments for each tracc_practice."
   ]
  },
  {
   "cell_type": "code",
   "execution_count": 132,
   "metadata": {
    "colab": {
     "base_uri": "https://localhost:8080/",
     "height": 206
    },
    "id": "5iYpPOHHkLT2",
    "outputId": "4c78a750-c795-4b96-a760-1df1f71657da"
   },
   "outputs": [
    {
     "data": {
      "text/html": [
       "<div>\n",
       "<style scoped>\n",
       "    .dataframe tbody tr th:only-of-type {\n",
       "        vertical-align: middle;\n",
       "    }\n",
       "\n",
       "    .dataframe tbody tr th {\n",
       "        vertical-align: top;\n",
       "    }\n",
       "\n",
       "    .dataframe thead th {\n",
       "        text-align: right;\n",
       "    }\n",
       "</style>\n",
       "<table border=\"1\" class=\"dataframe\">\n",
       "  <thead>\n",
       "    <tr style=\"text-align: right;\">\n",
       "      <th></th>\n",
       "      <th>client</th>\n",
       "      <th>site</th>\n",
       "      <th>country</th>\n",
       "      <th>tracc_practice</th>\n",
       "      <th>assessment_date</th>\n",
       "      <th>tracc_maturity</th>\n",
       "      <th>date</th>\n",
       "    </tr>\n",
       "  </thead>\n",
       "  <tbody>\n",
       "    <tr>\n",
       "      <th>63</th>\n",
       "      <td>Client 1</td>\n",
       "      <td>Site 1</td>\n",
       "      <td>Canada</td>\n",
       "      <td>5S</td>\n",
       "      <td>1/1/2017</td>\n",
       "      <td>2.35</td>\n",
       "      <td>2017-01-01</td>\n",
       "    </tr>\n",
       "    <tr>\n",
       "      <th>64</th>\n",
       "      <td>Client 1</td>\n",
       "      <td>Site 1</td>\n",
       "      <td>Canada</td>\n",
       "      <td>5S</td>\n",
       "      <td>1/3/2017</td>\n",
       "      <td>1.56</td>\n",
       "      <td>2017-01-03</td>\n",
       "    </tr>\n",
       "    <tr>\n",
       "      <th>65</th>\n",
       "      <td>Client 1</td>\n",
       "      <td>Site 1</td>\n",
       "      <td>Canada</td>\n",
       "      <td>5S</td>\n",
       "      <td>1/5/2017</td>\n",
       "      <td>1.54</td>\n",
       "      <td>2017-01-05</td>\n",
       "    </tr>\n",
       "    <tr>\n",
       "      <th>66</th>\n",
       "      <td>Client 1</td>\n",
       "      <td>Site 1</td>\n",
       "      <td>Canada</td>\n",
       "      <td>5S</td>\n",
       "      <td>1/9/2017</td>\n",
       "      <td>2.31</td>\n",
       "      <td>2017-01-09</td>\n",
       "    </tr>\n",
       "    <tr>\n",
       "      <th>67</th>\n",
       "      <td>Client 1</td>\n",
       "      <td>Site 1</td>\n",
       "      <td>Canada</td>\n",
       "      <td>5S</td>\n",
       "      <td>1/11/2017</td>\n",
       "      <td>1.84</td>\n",
       "      <td>2017-01-11</td>\n",
       "    </tr>\n",
       "  </tbody>\n",
       "</table>\n",
       "</div>"
      ],
      "text/plain": [
       "      client    site country tracc_practice assessment_date  tracc_maturity  \\\n",
       "63  Client 1  Site 1  Canada             5S        1/1/2017            2.35   \n",
       "64  Client 1  Site 1  Canada             5S        1/3/2017            1.56   \n",
       "65  Client 1  Site 1  Canada             5S        1/5/2017            1.54   \n",
       "66  Client 1  Site 1  Canada             5S        1/9/2017            2.31   \n",
       "67  Client 1  Site 1  Canada             5S       1/11/2017            1.84   \n",
       "\n",
       "         date  \n",
       "63 2017-01-01  \n",
       "64 2017-01-03  \n",
       "65 2017-01-05  \n",
       "66 2017-01-09  \n",
       "67 2017-01-11  "
      ]
     },
     "execution_count": 132,
     "metadata": {},
     "output_type": "execute_result"
    }
   ],
   "source": [
    "assessment_by_prac = df_copy[df_copy['assessment_date'].str.contains('2017')] # To get all assessments done in 2017\n",
    "assessment_by_prac.head()"
   ]
  },
  {
   "cell_type": "code",
   "execution_count": 133,
   "metadata": {
    "id": "oyFQNeBFJ54t"
   },
   "outputs": [],
   "source": [
    "assessment_by_prac_size = len(assessment_by_prac['tracc_maturity'].to_list())# Add the tracc_maturity values for 2017 to a list and get its size"
   ]
  },
  {
   "cell_type": "code",
   "execution_count": 134,
   "metadata": {
    "colab": {
     "base_uri": "https://localhost:8080/"
    },
    "id": "plscPqWJkXEE",
    "outputId": "6125e8a7-c373-4868-efe3-d9b4291930ed"
   },
   "outputs": [
    {
     "name": "stdout",
     "output_type": "stream",
     "text": [
      "Answer: 3301 assessments with breakdown totals of:\n",
      "\n"
     ]
    },
    {
     "data": {
      "text/plain": [
       "tracc_practice\n",
       "5S                             937\n",
       "Focused Improvement            660\n",
       "Leading and Managing Change      4\n",
       "Teamwork                       912\n",
       "Visual Management              788\n",
       "dtype: int64"
      ]
     },
     "execution_count": 134,
     "metadata": {},
     "output_type": "execute_result"
    }
   ],
   "source": [
    "print('Answer: {} assessments with breakdown totals of:\\n'.format(assessment_by_prac_size))\n",
    "assessment_by_prac.groupby('tracc_practice').size() # Group the assessments by tracc_practice and size"
   ]
  },
  {
   "cell_type": "code",
   "execution_count": null,
   "metadata": {
    "id": "JoWxfGaqiLRR"
   },
   "outputs": [],
   "source": []
  },
  {
   "cell_type": "markdown",
   "metadata": {
    "id": "LavdlshwcKFn"
   },
   "source": [
    "**6. Which clients have achieved a maturity score greater than 2.5, for the 5S and Teamwork practices ?**"
   ]
  },
  {
   "cell_type": "markdown",
   "metadata": {},
   "source": [
    "The idea is to first get the data for all rows with maturity > 2.5, then filter that data to find all with practices of 5S/Teamwork"
   ]
  },
  {
   "cell_type": "code",
   "execution_count": 135,
   "metadata": {},
   "outputs": [],
   "source": [
    "df_maturity = df[['client','tracc_practice','tracc_maturity']]"
   ]
  },
  {
   "cell_type": "code",
   "execution_count": 136,
   "metadata": {},
   "outputs": [],
   "source": [
    "df_maturity = df_maturity[df_maturity['tracc_maturity'] > 2.5] # Get all values with tracc_maturity > 2.5"
   ]
  },
  {
   "cell_type": "code",
   "execution_count": 137,
   "metadata": {},
   "outputs": [
    {
     "data": {
      "text/html": [
       "<div>\n",
       "<style scoped>\n",
       "    .dataframe tbody tr th:only-of-type {\n",
       "        vertical-align: middle;\n",
       "    }\n",
       "\n",
       "    .dataframe tbody tr th {\n",
       "        vertical-align: top;\n",
       "    }\n",
       "\n",
       "    .dataframe thead th {\n",
       "        text-align: right;\n",
       "    }\n",
       "</style>\n",
       "<table border=\"1\" class=\"dataframe\">\n",
       "  <thead>\n",
       "    <tr style=\"text-align: right;\">\n",
       "      <th></th>\n",
       "      <th>client</th>\n",
       "      <th>tracc_practice</th>\n",
       "      <th>tracc_maturity</th>\n",
       "    </tr>\n",
       "  </thead>\n",
       "  <tbody>\n",
       "    <tr>\n",
       "      <th>26</th>\n",
       "      <td>Client 1</td>\n",
       "      <td>5S</td>\n",
       "      <td>2.53</td>\n",
       "    </tr>\n",
       "    <tr>\n",
       "      <th>45</th>\n",
       "      <td>Client 1</td>\n",
       "      <td>5S</td>\n",
       "      <td>2.86</td>\n",
       "    </tr>\n",
       "    <tr>\n",
       "      <th>49</th>\n",
       "      <td>Client 1</td>\n",
       "      <td>5S</td>\n",
       "      <td>2.52</td>\n",
       "    </tr>\n",
       "    <tr>\n",
       "      <th>51</th>\n",
       "      <td>Client 1</td>\n",
       "      <td>5S</td>\n",
       "      <td>2.59</td>\n",
       "    </tr>\n",
       "    <tr>\n",
       "      <th>52</th>\n",
       "      <td>Client 1</td>\n",
       "      <td>5S</td>\n",
       "      <td>2.68</td>\n",
       "    </tr>\n",
       "  </tbody>\n",
       "</table>\n",
       "</div>"
      ],
      "text/plain": [
       "      client tracc_practice  tracc_maturity\n",
       "26  Client 1             5S            2.53\n",
       "45  Client 1             5S            2.86\n",
       "49  Client 1             5S            2.52\n",
       "51  Client 1             5S            2.59\n",
       "52  Client 1             5S            2.68"
      ]
     },
     "execution_count": 137,
     "metadata": {},
     "output_type": "execute_result"
    }
   ],
   "source": [
    "df_maturity.head()"
   ]
  },
  {
   "cell_type": "code",
   "execution_count": 138,
   "metadata": {},
   "outputs": [],
   "source": [
    "#Filter by 5S and Teamwork practices\n",
    "client_by_maturity = df_maturity[(df_maturity['tracc_practice'] == '5S') | (df_maturity['tracc_practice'] == 'teamwork') ]"
   ]
  },
  {
   "cell_type": "code",
   "execution_count": 139,
   "metadata": {},
   "outputs": [
    {
     "data": {
      "text/html": [
       "<div>\n",
       "<style scoped>\n",
       "    .dataframe tbody tr th:only-of-type {\n",
       "        vertical-align: middle;\n",
       "    }\n",
       "\n",
       "    .dataframe tbody tr th {\n",
       "        vertical-align: top;\n",
       "    }\n",
       "\n",
       "    .dataframe thead th {\n",
       "        text-align: right;\n",
       "    }\n",
       "</style>\n",
       "<table border=\"1\" class=\"dataframe\">\n",
       "  <thead>\n",
       "    <tr style=\"text-align: right;\">\n",
       "      <th></th>\n",
       "      <th>client</th>\n",
       "      <th>tracc_practice</th>\n",
       "      <th>tracc_maturity</th>\n",
       "    </tr>\n",
       "  </thead>\n",
       "  <tbody>\n",
       "    <tr>\n",
       "      <th>26</th>\n",
       "      <td>Client 1</td>\n",
       "      <td>5S</td>\n",
       "      <td>2.53</td>\n",
       "    </tr>\n",
       "    <tr>\n",
       "      <th>45</th>\n",
       "      <td>Client 1</td>\n",
       "      <td>5S</td>\n",
       "      <td>2.86</td>\n",
       "    </tr>\n",
       "    <tr>\n",
       "      <th>49</th>\n",
       "      <td>Client 1</td>\n",
       "      <td>5S</td>\n",
       "      <td>2.52</td>\n",
       "    </tr>\n",
       "    <tr>\n",
       "      <th>51</th>\n",
       "      <td>Client 1</td>\n",
       "      <td>5S</td>\n",
       "      <td>2.59</td>\n",
       "    </tr>\n",
       "    <tr>\n",
       "      <th>52</th>\n",
       "      <td>Client 1</td>\n",
       "      <td>5S</td>\n",
       "      <td>2.68</td>\n",
       "    </tr>\n",
       "  </tbody>\n",
       "</table>\n",
       "</div>"
      ],
      "text/plain": [
       "      client tracc_practice  tracc_maturity\n",
       "26  Client 1             5S            2.53\n",
       "45  Client 1             5S            2.86\n",
       "49  Client 1             5S            2.52\n",
       "51  Client 1             5S            2.59\n",
       "52  Client 1             5S            2.68"
      ]
     },
     "execution_count": 139,
     "metadata": {},
     "output_type": "execute_result"
    }
   ],
   "source": [
    "client_by_maturity.head()"
   ]
  },
  {
   "cell_type": "code",
   "execution_count": 140,
   "metadata": {},
   "outputs": [],
   "source": [
    "answer = list(set(client_by_maturity['client'].to_list()))"
   ]
  },
  {
   "cell_type": "code",
   "execution_count": 141,
   "metadata": {},
   "outputs": [
    {
     "name": "stdout",
     "output_type": "stream",
     "text": [
      "Answer:  ['Client 11', 'Client 32', 'Client 33', 'Client 8', 'Client 28', 'Client 1', 'Client 13', 'Client 48', 'Client 19', 'Client 5', 'Client 21', 'Client 18', 'Client 24', 'Client 44', 'Client 38', 'Client 4', 'Client 26', 'Client 2', 'Client 10', 'Client 6', 'Client 3', 'Client 41', 'Client 31', 'Client 15', 'Client 20']\n"
     ]
    }
   ],
   "source": [
    "print('Answer: ', answer)"
   ]
  },
  {
   "cell_type": "code",
   "execution_count": null,
   "metadata": {
    "id": "MpBrBMhwrkrp"
   },
   "outputs": [],
   "source": []
  }
 ],
 "metadata": {
  "colab": {
   "name": "CCi Data Analyst Assessment.ipynb",
   "provenance": []
  },
  "kernelspec": {
   "display_name": "Python 3",
   "language": "python",
   "name": "python3"
  },
  "language_info": {
   "codemirror_mode": {
    "name": "ipython",
    "version": 3
   },
   "file_extension": ".py",
   "mimetype": "text/x-python",
   "name": "python",
   "nbconvert_exporter": "python",
   "pygments_lexer": "ipython3",
   "version": "3.7.4"
  }
 },
 "nbformat": 4,
 "nbformat_minor": 1
}
